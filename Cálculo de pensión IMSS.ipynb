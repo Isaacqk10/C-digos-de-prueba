{
 "cells": [
  {
   "cell_type": "code",
   "execution_count": 1,
   "metadata": {
    "colab": {
     "base_uri": "https://localhost:8080/"
    },
    "executionInfo": {
     "elapsed": 25850,
     "status": "ok",
     "timestamp": 1706251134260,
     "user": {
      "displayName": "Isaac Tadeo",
      "userId": "02125017591268661795"
     },
     "user_tz": 360
    },
    "id": "Rywnerryqb8A",
    "outputId": "7308c9d0-796e-45e6-a36b-675ed1a698f3",
    "scrolled": true
   },
   "outputs": [
    {
     "name": "stdin",
     "output_type": "stream",
     "text": [
      "Ingresa el salario promedio de tus ultimos 5 años laborados y registrados en el IMSS:\n",
      "$ 35000\n",
      "Ingresa el total de tus semanas cotizadas\n",
      ": 700\n",
      "Ingresa tu edad a la hora de retiro a partir de los 60 años:\n",
      " 64\n"
     ]
    },
    {
     "name": "stdout",
     "output_type": "stream",
     "text": [
      "La cuantía básica es de:\n",
      "10.604357481980166\n",
      "El monto de tu pensión a los 64 años es de:\n",
      "$8210.87\n"
     ]
    }
   ],
   "source": [
    "#Calculo de pensión ley 73 o modalidad 40 del IMSS.#\n",
    "SBC = float(input(\"Ingresa el salario promedio de tus ultimos 5 años laborados y registrados en el IMSS:\\n$\" ))\n",
    "SC = int(input(\"Ingresa el total de tus semanas cotizadas\\n:\"))\n",
    "EDAD = int(input(\"Ingresa tu edad a la hora de retiro a partir de los 60 años:\\n\"))\n",
    "EXC = (SC-500)/52\n",
    "CB = SBC/3300.53\n",
    "print(f\"La cuantía básica es de:\\n{CB}\")\n",
    "IA1 = SBC*(0.80+(0.00563*EXC)*1.11)\n",
    "IA101 = SBC*(0.7711+(0.00814*EXC)*1.11)\n",
    "IA126 = SBC*(0.5818+(0.01178*EXC)*1.11)\n",
    "IA151 = SBC*(0.4923+(0.01430*EXC)*1.11)\n",
    "IA176 = SBC*(0.4267+(0.01615*EXC)*1.11)\n",
    "IA201 = SBC*(0.3765+(0.01756*EXC)*1.11)\n",
    "IA226 = SBC*(0.3368+(0.01868*EXC)*1.11)\n",
    "IA251 = SBC*(0.3048+(0.01958*EXC)*1.11)\n",
    "IA276 = SBC*(0.2783+(0.02033*EXC)*1.11)\n",
    "IA301 = SBC*(0.2560+(0.02096*EXC)*1.11)\n",
    "IA326 = SBC*(0.2370+(0.02149*EXC)*1.11)\n",
    "IA351 = SBC*(0.2207+(0.02195*EXC)*1.11)\n",
    "IA376 = SBC*(0.2065+(0.02235*EXC)*1.11)\n",
    "IA401 = SBC*(0.1939+(0.02271*EXC)*1.11)\n",
    "IA426 = SBC*(0.1829+(0.02302*EXC)*1.11)\n",
    "IA451 = SBC*(0.1730+(0.02330*EXC)*1.11)\n",
    "IA476 = SBC*(0.1641+(0.02355*EXC)*1.11)\n",
    "IA501 = SBC*(0.1561+(0.02377*EXC)*1.11)\n",
    "IA526 = SBC*(0.1488+(0.02398*EXC)*1.11)\n",
    "IA551 = SBC*(0.1422+(0.02416*EXC)*1.11)\n",
    "IA576 = SBC*(0.1362+(0.02433*EXC)*1.11)\n",
    "IA601 = SBC*(0.1300+(0.02450*EXC)*1.11)\n",
    "if CB <= 1:\n",
    "  print(f\"El monto de tu pensión a los {EDAD} años es de:\\n${IA1:.2f}\")\n",
    "if 1.01 <= CB <= 1.2599:\n",
    "  print(f\"El monto de tu pensión a los {EDAD} años es de:\\n${IA101:.2f}\")\n",
    "if 1.26 <= CB <= 1.5099:\n",
    "  print(f\"El monto de tu pensión a los {EDAD} años es de:\\n${IA126:.2f}\")\n",
    "if 1.51 <= CB <= 1.7599:\n",
    "  print(f\"El monto de tu pensión a los {EDAD} años es de:\\n${IA151:.2f}\")\n",
    "if 1.76 <= CB <= 2.099:\n",
    "  print(f\"El monto de tu pensión a los {EDAD} años es de:\\n${IA176:.2f}\")\n",
    "if 2.01 <= CB <= 2.2599:\n",
    "  print(f\"El monto de tu pensión a los {EDAD} años es de:\\n${IA201:.2f}\")\n",
    "if 2.26 <= CB <= 2.5099:\n",
    "  print(f\"El monto de tu pensión a los {EDAD} años es de:\\n${IA226:.2f}\")\n",
    "if 2.51 <= CB <= 2.7599:\n",
    "  print(f\"El monto de tu pensión a los {EDAD} años es de:\\n${IA251:.2f}\")\n",
    "if 2.76 <= CB <= 3.099:\n",
    "  print(f\"El monto de tu pensión a los {EDAD} años es de:\\n${IA276:.2f}\")\n",
    "if 3.01 <= CB <= 3.2599:\n",
    "  print(f\"El monto de tu pensión a los {EDAD} años es de:\\n${IA301:.2f}\")\n",
    "if 3.26 <= CB <= 3.5099:\n",
    "  print(f\"El monto de tu pensión a los {EDAD} años es de:\\n${IA326:.2f}\")\n",
    "if 3.51 <= CB <= 3.7599:\n",
    "  print(f\"El monto de tu pensión a los {EDAD} años es de:\\n${IA351:.2f}\")\n",
    "if 3.76 <= CB <= 4.099:\n",
    "  print(f\"El monto de tu pensión a los {EDAD} años es de:\\n${IA376:.2f}\")\n",
    "if 4.01 <= CB <= 4.2599:\n",
    "  print(f\"El monto de tu pensión a los {EDAD} años es de:\\n${IA401:.2f}\")\n",
    "if 4.26 <= CB <= 4.5099:\n",
    "  print(f\"El monto de tu pensión a los {EDAD} años es de:\\n${IA426:.2f}\")\n",
    "if 4.51 <= CB <= 4.7599:\n",
    "  print(f\"El monto de tu pensión a los {EDAD} años es de:\\n${IA451:.2f}\")\n",
    "if 4.76 <= CB <= 5.099:\n",
    "  print(f\"El monto de tu pensión a los {EDAD} años es de:\\n${IA476:.2f}\")\n",
    "if 5.01 <= CB <= 5.2599:\n",
    "  print(f\"El monto de tu pensión a los {EDAD} años es de:\\n${IA501:.2f}\")\n",
    "if 5.26 <= CB <= 5.599:\n",
    "  print(f\"El monto de tu pensión a los {EDAD} años es de:\\n${IA526:.2f}\")\n",
    "if 5.51 <= CB <= 5.7599:\n",
    "  print(f\"El monto de tu pensión a los {EDAD} años es de:\\n${IA551:.2f}\")\n",
    "if 5.76 <= CB <= 6.099:\n",
    "  print(f\"El monto de tu pensión a los {EDAD} años es de:\\n${IA576:.2f}\")\n",
    "if CB >= 6.01:\n",
    "  print(f\"El monto de tu pensión a los {EDAD} años es de:\\n${IA601:.2f}\")\n",
    "\n",
    "\n"
   ]
  },
  {
   "cell_type": "code",
   "execution_count": null,
   "metadata": {},
   "outputs": [],
   "source": []
  },
  {
   "cell_type": "code",
   "execution_count": null,
   "metadata": {},
   "outputs": [],
   "source": []
  },
  {
   "cell_type": "code",
   "execution_count": null,
   "metadata": {},
   "outputs": [],
   "source": []
  },
  {
   "cell_type": "code",
   "execution_count": null,
   "metadata": {},
   "outputs": [],
   "source": []
  },
  {
   "cell_type": "code",
   "execution_count": null,
   "metadata": {},
   "outputs": [],
   "source": []
  }
 ],
 "metadata": {
  "colab": {
   "authorship_tag": "ABX9TyMffTXs1mQK5mZbq4X9JlVF",
   "provenance": []
  },
  "kernelspec": {
   "display_name": "Python 3 (ipykernel)",
   "language": "python",
   "name": "python3"
  },
  "language_info": {
   "codemirror_mode": {
    "name": "ipython",
    "version": 3
   },
   "file_extension": ".py",
   "mimetype": "text/x-python",
   "name": "python",
   "nbconvert_exporter": "python",
   "pygments_lexer": "ipython3",
   "version": "3.11.0"
  }
 },
 "nbformat": 4,
 "nbformat_minor": 4
}
